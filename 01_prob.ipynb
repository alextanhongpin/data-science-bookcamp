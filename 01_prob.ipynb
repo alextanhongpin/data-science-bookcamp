{
 "cells": [
  {
   "cell_type": "markdown",
   "id": "grave-thesis",
   "metadata": {},
   "source": [
    "## Sample space analysis\n",
    "\n",
    "A _sample space_ is the set of all the possible outcomes an action could produce. \n",
    "\n",
    "E.g. flipping a coin would produce head or tails. "
   ]
  },
  {
   "cell_type": "code",
   "execution_count": 1,
   "id": "rural-rescue",
   "metadata": {},
   "outputs": [
    {
     "name": "stdout",
     "output_type": "stream",
     "text": [
      "Probability of choosing heads is 0.5\n"
     ]
    }
   ],
   "source": [
    "sample_space = {\"heads\", \"tails\"}\n",
    "\n",
    "probability_heads = 1 / len(sample_space)\n",
    "print(f\"Probability of choosing heads is {probability_heads}\")"
   ]
  },
  {
   "cell_type": "markdown",
   "id": "blessed-riverside",
   "metadata": {},
   "source": [
    "### EVENT\n",
    "\n",
    "An _event_ is the subset of those elements within `sample_space` that satisfy some _event condition_.\n",
    "\n",
    "Event condition:\n",
    "- is heads or tails\n",
    "- is heads\n",
    "- is tails\n",
    "- is neither"
   ]
  },
  {
   "cell_type": "markdown",
   "id": "wound-belize",
   "metadata": {},
   "source": [
    "**Defining event conditions**"
   ]
  },
  {
   "cell_type": "code",
   "execution_count": 2,
   "id": "saved-float",
   "metadata": {},
   "outputs": [],
   "source": [
    "def is_head_or_tails(outcome):\n",
    "    return outcome in sample_space\n",
    "\n",
    "\n",
    "def is_neither(outcome):\n",
    "    return not is_head_or_tails(outcome)\n",
    "\n",
    "\n",
    "def is_heads(outcome):\n",
    "    return outcome == \"heads\"\n",
    "\n",
    "\n",
    "def is_tails(outcome):\n",
    "    return outcome == \"tails\""
   ]
  },
  {
   "cell_type": "markdown",
   "id": "proved-branch",
   "metadata": {},
   "source": [
    "**Defining an event-detection function**"
   ]
  },
  {
   "cell_type": "code",
   "execution_count": 3,
   "id": "weird-williams",
   "metadata": {},
   "outputs": [],
   "source": [
    "def get_matching_event(event_condition, sample_space):\n",
    "    return set([outcome for outcome in sample_space if event_condition(outcome)])"
   ]
  },
  {
   "cell_type": "markdown",
   "id": "amended-remains",
   "metadata": {},
   "source": [
    "**Detecting events using events conditions**"
   ]
  },
  {
   "cell_type": "code",
   "execution_count": 4,
   "id": "diverse-generator",
   "metadata": {},
   "outputs": [
    {
     "name": "stdout",
     "output_type": "stream",
     "text": [
      "Event condition: is_head_or_tails\n",
      "Event: {'heads', 'tails'}\n",
      "\n",
      "Event condition: is_heads\n",
      "Event: {'heads'}\n",
      "\n",
      "Event condition: is_tails\n",
      "Event: {'tails'}\n",
      "\n",
      "Event condition: is_neither\n",
      "Event: set()\n",
      "\n"
     ]
    }
   ],
   "source": [
    "event_conditions = [is_head_or_tails, is_heads, is_tails, is_neither]\n",
    "\n",
    "for event_condition in event_conditions:\n",
    "    print(f\"Event condition: {event_condition.__name__}\")\n",
    "    event = get_matching_event(event_condition, sample_space)\n",
    "    print(f\"Event: {event}\\n\")"
   ]
  },
  {
   "cell_type": "markdown",
   "id": "current-motel",
   "metadata": {},
   "source": [
    "**Computing event probabilities**"
   ]
  },
  {
   "cell_type": "code",
   "execution_count": 5,
   "id": "olympic-threat",
   "metadata": {},
   "outputs": [
    {
     "name": "stdout",
     "output_type": "stream",
     "text": [
      "Probability of event arising from is_head_or_tails is 1.0\n",
      "Probability of event arising from is_heads is 0.5\n",
      "Probability of event arising from is_tails is 0.5\n",
      "Probability of event arising from is_neither is 0.0\n"
     ]
    }
   ],
   "source": [
    "def compute_probability(event_condition, generic_sample_space):\n",
    "    event = get_matching_event(event_condition, generic_sample_space)\n",
    "    return len(event) / len(generic_sample_space)\n",
    "\n",
    "\n",
    "for event_condition in event_conditions:\n",
    "    prob = compute_probability(event_condition, sample_space)\n",
    "    name = event_condition.__name__\n",
    "    print(f\"Probability of event arising from {name} is {prob}\")"
   ]
  },
  {
   "cell_type": "markdown",
   "id": "welcome-powell",
   "metadata": {},
   "source": [
    "#### Analyzing a biased coin"
   ]
  },
  {
   "cell_type": "markdown",
   "id": "different-exhaust",
   "metadata": {},
   "source": [
    "**Representing a weighted sample space**"
   ]
  },
  {
   "cell_type": "code",
   "execution_count": 6,
   "id": "virgin-transparency",
   "metadata": {},
   "outputs": [],
   "source": [
    "weighted_sample_space = {\"heads\": 4, \"tails\": 1}"
   ]
  },
  {
   "cell_type": "markdown",
   "id": "little-grass",
   "metadata": {},
   "source": [
    "**Checking the weighted sample space size**"
   ]
  },
  {
   "cell_type": "code",
   "execution_count": 7,
   "id": "objective-telling",
   "metadata": {},
   "outputs": [],
   "source": [
    "sample_space_size = sum(weighted_sample_space.values())\n",
    "assert sample_space_size == 5"
   ]
  },
  {
   "cell_type": "markdown",
   "id": "frank-jurisdiction",
   "metadata": {},
   "source": [
    "**Checking the weighted event size**"
   ]
  },
  {
   "cell_type": "code",
   "execution_count": 8,
   "id": "excited-refund",
   "metadata": {},
   "outputs": [],
   "source": [
    "event = get_matching_event(is_head_or_tails, weighted_sample_space)\n",
    "event_size = sum(weighted_sample_space[outcome] for outcome in event)\n",
    "assert event_size == 5"
   ]
  },
  {
   "cell_type": "markdown",
   "id": "sustainable-blood",
   "metadata": {},
   "source": [
    "**Defining a generalized event probability function**"
   ]
  },
  {
   "cell_type": "code",
   "execution_count": 9,
   "id": "original-fossil",
   "metadata": {},
   "outputs": [],
   "source": [
    "def compute_event_probability(event_condition, generic_sample_space):\n",
    "    event = get_matching_event(event_condition, generic_sample_space)\n",
    "    if type(generic_sample_space) == type(set()):\n",
    "        return len(event) / len(generic_sample_space)\n",
    "    event_size = sum(generic_sample_space[outcome] for outcome in event)\n",
    "    return event_size / sum(generic_sample_space.values())"
   ]
  },
  {
   "cell_type": "markdown",
   "id": "temporal-mixture",
   "metadata": {},
   "source": [
    "**Computing weighted event probabilities**"
   ]
  },
  {
   "cell_type": "code",
   "execution_count": 10,
   "id": "dense-waterproof",
   "metadata": {},
   "outputs": [
    {
     "name": "stdout",
     "output_type": "stream",
     "text": [
      "Probability of event arising from is_head_or_tails is 1.0\n",
      "Probability of event arising from is_heads is 0.8\n",
      "Probability of event arising from is_tails is 0.2\n",
      "Probability of event arising from is_neither is 0.0\n"
     ]
    }
   ],
   "source": [
    "for event_condition in event_conditions:\n",
    "    prob = compute_event_probability(event_condition, weighted_sample_space)\n",
    "    name = event_condition.__name__\n",
    "    print(f\"Probability of event arising from {name} is {prob}\")"
   ]
  },
  {
   "cell_type": "markdown",
   "id": "abroad-difference",
   "metadata": {},
   "source": [
    "## Computing nontrivial probabilities\n",
    "\n",
    "How to use `compute_event_probability` to solve problems?"
   ]
  },
  {
   "cell_type": "markdown",
   "id": "outdoor-blade",
   "metadata": {},
   "source": [
    "### Problem 1: Analyzing a family with four children\n",
    "\n",
    "Suppose a family has four children. What is the probability that exactly two of the children are boys? Each child is likely equal to be a boy or a girl (unweighted sample space)."
   ]
  },
  {
   "cell_type": "markdown",
   "id": "scenic-passport",
   "metadata": {},
   "source": [
    "**Computing the sample space of children**"
   ]
  },
  {
   "cell_type": "code",
   "execution_count": 11,
   "id": "becoming-transparency",
   "metadata": {},
   "outputs": [
    {
     "data": {
      "text/plain": [
       "{('boy', 'boy', 'boy', 'boy'),\n",
       " ('boy', 'boy', 'boy', 'girl'),\n",
       " ('boy', 'boy', 'girl', 'boy'),\n",
       " ('boy', 'boy', 'girl', 'girl'),\n",
       " ('boy', 'girl', 'boy', 'boy'),\n",
       " ('boy', 'girl', 'boy', 'girl'),\n",
       " ('boy', 'girl', 'girl', 'boy'),\n",
       " ('boy', 'girl', 'girl', 'girl'),\n",
       " ('girl', 'boy', 'boy', 'boy'),\n",
       " ('girl', 'boy', 'boy', 'girl'),\n",
       " ('girl', 'boy', 'girl', 'boy'),\n",
       " ('girl', 'boy', 'girl', 'girl'),\n",
       " ('girl', 'girl', 'boy', 'boy'),\n",
       " ('girl', 'girl', 'boy', 'girl'),\n",
       " ('girl', 'girl', 'girl', 'boy'),\n",
       " ('girl', 'girl', 'girl', 'girl')}"
      ]
     },
     "execution_count": 11,
     "metadata": {},
     "output_type": "execute_result"
    }
   ],
   "source": [
    "possible_children = [\"boy\", \"girl\"]\n",
    "sample_space = set()\n",
    "\n",
    "for child1 in possible_children:\n",
    "    for child2 in possible_children:\n",
    "        for child3 in possible_children:\n",
    "            for child4 in possible_children:\n",
    "                outcome = (child1, child2, child3, child4)\n",
    "                sample_space.add(outcome)\n",
    "sample_space"
   ]
  },
  {
   "cell_type": "code",
   "execution_count": 12,
   "id": "metallic-district",
   "metadata": {},
   "outputs": [],
   "source": [
    "import itertools\n",
    "\n",
    "# The `*` unpacks the list, making this similar as product(possible_children, possible_children, possible_children, possible_children)\n",
    "all_combinations = itertools.product(*(4 * [possible_children]))\n",
    "assert set(all_combinations) == sample_space"
   ]
  },
  {
   "cell_type": "code",
   "execution_count": 13,
   "id": "elder-wisdom",
   "metadata": {},
   "outputs": [],
   "source": [
    "sample_space_efficient = itertools.product(possible_children, repeat=4)\n",
    "assert set(sample_space_efficient) == sample_space"
   ]
  },
  {
   "cell_type": "markdown",
   "id": "better-volunteer",
   "metadata": {},
   "source": [
    "**Computing the probabilities of two boys**"
   ]
  },
  {
   "cell_type": "code",
   "execution_count": 14,
   "id": "promotional-history",
   "metadata": {},
   "outputs": [
    {
     "name": "stdout",
     "output_type": "stream",
     "text": [
      "Probability of 2 boys is 0.375\n"
     ]
    }
   ],
   "source": [
    "def has_two_boys(outcome):\n",
    "    return len([child for child in outcome if child == \"boy\"]) == 2\n",
    "\n",
    "\n",
    "prob = compute_event_probability(has_two_boys, sample_space)\n",
    "\n",
    "print(f\"Probability of 2 boys is {prob}\")"
   ]
  },
  {
   "cell_type": "markdown",
   "id": "russian-injury",
   "metadata": {},
   "source": [
    "### Problem 2: Analyzing multiple die rools\n",
    "\n",
    "We have a fair six-sided die whose faces are numbered from 1 to 6. The die is rolled 6 times. What is the probability that these six die rolls add up to 21?"
   ]
  },
  {
   "cell_type": "code",
   "execution_count": 15,
   "id": "military-detroit",
   "metadata": {},
   "outputs": [
    {
     "data": {
      "text/plain": [
       "[1, 2, 3, 4, 5, 6]"
      ]
     },
     "execution_count": 15,
     "metadata": {},
     "output_type": "execute_result"
    }
   ],
   "source": [
    "possible_rolls = list(range(1, 7))\n",
    "possible_rolls"
   ]
  },
  {
   "cell_type": "code",
   "execution_count": 16,
   "id": "limiting-might",
   "metadata": {},
   "outputs": [
    {
     "name": "stdout",
     "output_type": "stream",
     "text": [
      "6 rolls sum to 21 has probability of 0.093\n"
     ]
    }
   ],
   "source": [
    "sample_space = set(itertools.product(possible_rolls, repeat=6))\n",
    "\n",
    "\n",
    "def has_sum_of_21(outcome):\n",
    "    return sum(outcome) == 21\n",
    "\n",
    "\n",
    "prob = compute_event_probability(has_sum_of_21, sample_space)\n",
    "print(f\"6 rolls sum to 21 has probability of {prob:.3f}\")"
   ]
  },
  {
   "cell_type": "markdown",
   "id": "cellular-appeal",
   "metadata": {},
   "source": [
    "### Problem 3: Computing die-roll probabilities using weighted sample space.\n",
    "\n",
    "Similar to Problem 2, but we converted out unweighted sample space set into a weighted sample space dictionary.\n",
    "\n"
   ]
  },
  {
   "cell_type": "code",
   "execution_count": 17,
   "id": "social-coating",
   "metadata": {},
   "outputs": [
    {
     "data": {
      "text/plain": [
       "31"
      ]
     },
     "execution_count": 17,
     "metadata": {},
     "output_type": "execute_result"
    }
   ],
   "source": [
    "from collections import defaultdict\n",
    "\n",
    "weighted_sample_space = defaultdict(int)\n",
    "for outcome in sample_space:\n",
    "    total = sum(outcome)\n",
    "    weighted_sample_space[total] += 1\n",
    "len(weighted_sample_space)"
   ]
  },
  {
   "cell_type": "markdown",
   "id": "palestinian-potter",
   "metadata": {},
   "source": [
    "**Checking very rare die-roll combinations**"
   ]
  },
  {
   "cell_type": "code",
   "execution_count": 18,
   "id": "positive-macro",
   "metadata": {},
   "outputs": [],
   "source": [
    "# We must roll all 1s to get sum of 6.\n",
    "assert weighted_sample_space[6] == 1\n",
    "\n",
    "# We must roll all 6s to get sum of 36.\n",
    "assert weighted_sample_space[36] == 1"
   ]
  },
  {
   "cell_type": "markdown",
   "id": "endangered-selection",
   "metadata": {},
   "source": [
    "**Checking a more common die-roll combination**"
   ]
  },
  {
   "cell_type": "code",
   "execution_count": 19,
   "id": "brave-chamber",
   "metadata": {},
   "outputs": [
    {
     "name": "stdout",
     "output_type": "stream",
     "text": [
      "There are 4332 ways for 6 die rolls to sum to 21\n"
     ]
    }
   ],
   "source": [
    "num_combinations = weighted_sample_space[21]\n",
    "print(f\"There are {num_combinations} ways for 6 die rolls to sum to 21\")"
   ]
  },
  {
   "cell_type": "markdown",
   "id": "pregnant-prairie",
   "metadata": {},
   "source": [
    "**Comparing weighted events and regular events**"
   ]
  },
  {
   "cell_type": "code",
   "execution_count": 20,
   "id": "becoming-casino",
   "metadata": {},
   "outputs": [],
   "source": [
    "event = get_matching_event(has_sum_of_21, sample_space)\n",
    "assert weighted_sample_space[21] == len(event)\n",
    "assert sum(weighted_sample_space.values()) == len(sample_space)"
   ]
  },
  {
   "cell_type": "markdown",
   "id": "elementary-trigger",
   "metadata": {},
   "source": [
    "**Computing the weighted event probability of die rolls**"
   ]
  },
  {
   "cell_type": "code",
   "execution_count": 21,
   "id": "thick-grill",
   "metadata": {},
   "outputs": [
    {
     "name": "stdout",
     "output_type": "stream",
     "text": [
      "6 rolls sum to 21 with probability of 0.093\n"
     ]
    }
   ],
   "source": [
    "prob = compute_event_probability(lambda x: x == 21, weighted_sample_space)\n",
    "assert prob == compute_event_probability(has_sum_of_21, sample_space)\n",
    "print(f\"6 rolls sum to 21 with probability of {prob:.3f}\")"
   ]
  },
  {
   "cell_type": "markdown",
   "id": "sitting-double",
   "metadata": {},
   "source": [
    "**Comparing weighted to unweighted event space size**\n",
    "\n",
    "What is the benefits of using weighted sample space? Less memory usage."
   ]
  },
  {
   "cell_type": "code",
   "execution_count": 23,
   "id": "guilty-department",
   "metadata": {},
   "outputs": [
    {
     "name": "stdout",
     "output_type": "stream",
     "text": [
      "Number of elements in unweighted sample space:\n",
      "46656\n",
      "\n",
      "Number of elements in weighted sample space:\n",
      "31\n"
     ]
    }
   ],
   "source": [
    "print(\"Number of elements in unweighted sample space:\")\n",
    "print(len(sample_space))\n",
    "\n",
    "print()\n",
    "\n",
    "print(\"Number of elements in weighted sample space:\")\n",
    "print(len(weighted_sample_space))"
   ]
  },
  {
   "cell_type": "markdown",
   "id": "hired-double",
   "metadata": {},
   "source": [
    "## Computing probabilities over interval ranges\n",
    "\n",
    "An _interval_ is a set of all the numbers between and including two boundary cutoffs.\n",
    "\n"
   ]
  },
  {
   "cell_type": "markdown",
   "id": "lyric-milwaukee",
   "metadata": {},
   "source": [
    "**Defining an interval function**"
   ]
  },
  {
   "cell_type": "code",
   "execution_count": 24,
   "id": "greatest-transport",
   "metadata": {},
   "outputs": [],
   "source": [
    "def is_in_interval(number, minimum, maximum):\n",
    "    return minimum <= number <= maximum"
   ]
  },
  {
   "cell_type": "markdown",
   "id": "aerial-dressing",
   "metadata": {},
   "source": [
    "**Computing the probability over an interval**"
   ]
  },
  {
   "cell_type": "code",
   "execution_count": 26,
   "id": "victorian-baghdad",
   "metadata": {},
   "outputs": [
    {
     "name": "stdout",
     "output_type": "stream",
     "text": [
      "Probability of interval is 0.5446244855967078\n"
     ]
    }
   ],
   "source": [
    "prob = compute_event_probability(\n",
    "    lambda x: is_in_interval(x, 10, 21), weighted_sample_space\n",
    ")\n",
    "print(f\"Probability of interval is {prob}\")"
   ]
  },
  {
   "cell_type": "markdown",
   "id": "imposed-welcome",
   "metadata": {},
   "source": [
    "### Evaluating extremes using interval analysis"
   ]
  },
  {
   "cell_type": "markdown",
   "id": "frequent-communist",
   "metadata": {},
   "source": [
    "**Computing the sample space for 10 coin flips**"
   ]
  },
  {
   "cell_type": "code",
   "execution_count": 27,
   "id": "tracked-transcription",
   "metadata": {},
   "outputs": [],
   "source": [
    "def generate_coin_sample_space(num_flips=10):\n",
    "    weighted_sample_space = defaultdict(int)\n",
    "\n",
    "    for coin_flips in itertools.product([\"heads\", \"tails\"], repeat=num_flips):\n",
    "        heads_count = len([outcome for outcome in coin_flips if outcome == \"heads\"])\n",
    "        weighted_sample_space[heads_count] += 1\n",
    "\n",
    "    return weighted_sample_space"
   ]
  },
  {
   "cell_type": "code",
   "execution_count": 30,
   "id": "periodic-battle",
   "metadata": {},
   "outputs": [],
   "source": [
    "weighted_sample_space = generate_coin_sample_space()\n",
    "\n",
    "# Only one possible way to flip a coin 10 times and get 10 heads.\n",
    "assert weighted_sample_space[10] == 1\n",
    "\n",
    "# There are 10 ways to get 1 tail.\n",
    "assert weighted_sample_space[9] == 10"
   ]
  },
  {
   "cell_type": "markdown",
   "id": "preliminary-elements",
   "metadata": {},
   "source": [
    "**Computing an extreme head-count probability**\n",
    "\n",
    "Compute the probability of observing an interval from 8 to 10 heads."
   ]
  },
  {
   "cell_type": "code",
   "execution_count": 33,
   "id": "respective-ideal",
   "metadata": {},
   "outputs": [
    {
     "name": "stdout",
     "output_type": "stream",
     "text": [
      "Probability of observing more than 7 heads is 0.0546875\n"
     ]
    }
   ],
   "source": [
    "prob = compute_event_probability(\n",
    "    lambda x: is_in_interval(x, 8, 10), weighted_sample_space\n",
    ")\n",
    "print(f\"Probability of observing more than 7 heads is {prob}\")"
   ]
  },
  {
   "cell_type": "markdown",
   "id": "married-nicaragua",
   "metadata": {},
   "source": [
    "**Computing an extreme interval probability**\n",
    "\n",
    "What is the probability the coin flips do not produce from 3 to 7 heads?"
   ]
  },
  {
   "cell_type": "code",
   "execution_count": 34,
   "id": "numerical-business",
   "metadata": {},
   "outputs": [
    {
     "name": "stdout",
     "output_type": "stream",
     "text": [
      "Probability of observing more than 7 heads or 7 tails is 0.109375\n"
     ]
    }
   ],
   "source": [
    "prob = compute_event_probability(\n",
    "    lambda x: not is_in_interval(x, 3, 7), weighted_sample_space\n",
    ")\n",
    "print(f\"Probability of observing more than 7 heads or 7 tails is {prob}\")"
   ]
  },
  {
   "cell_type": "markdown",
   "id": "authorized-albuquerque",
   "metadata": {},
   "source": [
    "**Analyzing extreme head counts for 20 fair flip coins**\n",
    "\n",
    "Find the probability of 20 fair coin flips not producing from 5 to 15 heads."
   ]
  },
  {
   "cell_type": "code",
   "execution_count": 36,
   "id": "olive-complex",
   "metadata": {},
   "outputs": [
    {
     "name": "stdout",
     "output_type": "stream",
     "text": [
      "Probability of observing more than 15 heads or 15 tails is 0.01181793212890625\n"
     ]
    }
   ],
   "source": [
    "weighted_sample_space_20_flips = generate_coin_sample_space(num_flips=20)\n",
    "prob = compute_event_probability(\n",
    "    lambda x: not is_in_interval(x, 5, 15), weighted_sample_space_20_flips\n",
    ")\n",
    "print(f\"Probability of observing more than 15 heads or 15 tails is {prob}\")"
   ]
  }
 ],
 "metadata": {
  "kernelspec": {
   "display_name": "Python 3",
   "language": "python",
   "name": "python3"
  },
  "language_info": {
   "codemirror_mode": {
    "name": "ipython",
    "version": 3
   },
   "file_extension": ".py",
   "mimetype": "text/x-python",
   "name": "python",
   "nbconvert_exporter": "python",
   "pygments_lexer": "ipython3",
   "version": "3.9.10"
  }
 },
 "nbformat": 4,
 "nbformat_minor": 5
}
